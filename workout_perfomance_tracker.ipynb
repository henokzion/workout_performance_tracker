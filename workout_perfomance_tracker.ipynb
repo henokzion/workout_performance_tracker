{
  "nbformat": 4,
  "nbformat_minor": 0,
  "metadata": {
    "colab": {
      "provenance": [],
      "authorship_tag": "ABX9TyNGppqGo/xxzTxFfNuBa6XY",
      "include_colab_link": true
    },
    "kernelspec": {
      "name": "python3",
      "display_name": "Python 3"
    },
    "language_info": {
      "name": "python"
    }
  },
  "cells": [
    {
      "cell_type": "markdown",
      "metadata": {
        "id": "view-in-github",
        "colab_type": "text"
      },
      "source": [
        "<a href=\"https://colab.research.google.com/github/henokzion/workout_performance_tracker/blob/main/workout_perfomance_tracker.ipynb\" target=\"_parent\"><img src=\"https://colab.research.google.com/assets/colab-badge.svg\" alt=\"Open In Colab\"/></a>"
      ]
    },
    {
      "cell_type": "markdown",
      "source": [
        "Setup credentials for readding data from google sheets"
      ],
      "metadata": {
        "id": "_5js3tYhyvzD"
      }
    },
    {
      "cell_type": "code",
      "execution_count": 1,
      "metadata": {
        "colab": {
          "base_uri": "https://localhost:8080/"
        },
        "id": "70Bm9fGPw4Qa",
        "outputId": "5085615c-384b-4d25-fd0d-afd342ddc334"
      },
      "outputs": [
        {
          "output_type": "stream",
          "name": "stdout",
          "text": [
            "Requirement already satisfied: gspread in /usr/local/lib/python3.11/dist-packages (6.1.4)\n",
            "Requirement already satisfied: google-auth>=1.12.0 in /usr/local/lib/python3.11/dist-packages (from gspread) (2.27.0)\n",
            "Requirement already satisfied: google-auth-oauthlib>=0.4.1 in /usr/local/lib/python3.11/dist-packages (from gspread) (1.2.1)\n",
            "Requirement already satisfied: cachetools<6.0,>=2.0.0 in /usr/local/lib/python3.11/dist-packages (from google-auth>=1.12.0->gspread) (5.5.1)\n",
            "Requirement already satisfied: pyasn1-modules>=0.2.1 in /usr/local/lib/python3.11/dist-packages (from google-auth>=1.12.0->gspread) (0.4.1)\n",
            "Requirement already satisfied: rsa<5,>=3.1.4 in /usr/local/lib/python3.11/dist-packages (from google-auth>=1.12.0->gspread) (4.9)\n",
            "Requirement already satisfied: requests-oauthlib>=0.7.0 in /usr/local/lib/python3.11/dist-packages (from google-auth-oauthlib>=0.4.1->gspread) (1.3.1)\n",
            "Requirement already satisfied: pyasn1<0.7.0,>=0.4.6 in /usr/local/lib/python3.11/dist-packages (from pyasn1-modules>=0.2.1->google-auth>=1.12.0->gspread) (0.6.1)\n",
            "Requirement already satisfied: oauthlib>=3.0.0 in /usr/local/lib/python3.11/dist-packages (from requests-oauthlib>=0.7.0->google-auth-oauthlib>=0.4.1->gspread) (3.2.2)\n",
            "Requirement already satisfied: requests>=2.0.0 in /usr/local/lib/python3.11/dist-packages (from requests-oauthlib>=0.7.0->google-auth-oauthlib>=0.4.1->gspread) (2.32.3)\n",
            "Requirement already satisfied: charset-normalizer<4,>=2 in /usr/local/lib/python3.11/dist-packages (from requests>=2.0.0->requests-oauthlib>=0.7.0->google-auth-oauthlib>=0.4.1->gspread) (3.4.1)\n",
            "Requirement already satisfied: idna<4,>=2.5 in /usr/local/lib/python3.11/dist-packages (from requests>=2.0.0->requests-oauthlib>=0.7.0->google-auth-oauthlib>=0.4.1->gspread) (3.10)\n",
            "Requirement already satisfied: urllib3<3,>=1.21.1 in /usr/local/lib/python3.11/dist-packages (from requests>=2.0.0->requests-oauthlib>=0.7.0->google-auth-oauthlib>=0.4.1->gspread) (2.3.0)\n",
            "Requirement already satisfied: certifi>=2017.4.17 in /usr/local/lib/python3.11/dist-packages (from requests>=2.0.0->requests-oauthlib>=0.7.0->google-auth-oauthlib>=0.4.1->gspread) (2024.12.14)\n"
          ]
        }
      ],
      "source": [
        "!pip install --upgrade gspread\n",
        "\n",
        "from google.colab import auth\n",
        "auth.authenticate_user()\n",
        "\n",
        "import gspread\n",
        "from google.auth import default\n",
        "creds, _ = default()\n",
        "\n",
        "gc = gspread.authorize(creds)"
      ]
    },
    {
      "cell_type": "markdown",
      "source": [
        "Import modules for data processing"
      ],
      "metadata": {
        "id": "EbagEBli1MJc"
      }
    },
    {
      "cell_type": "code",
      "source": [
        "import pandas as pd\n",
        "import seaborn as sns\n",
        "import matplotlib.pyplot as plt"
      ],
      "metadata": {
        "id": "5uxhPCiu1Rue"
      },
      "execution_count": 2,
      "outputs": []
    },
    {
      "cell_type": "markdown",
      "source": [
        "Read data : Currenlty my workout split is, a mix between push/pull/logs and upper/lower\n"
      ],
      "metadata": {
        "id": "jt_ZgSCczA57"
      }
    },
    {
      "cell_type": "code",
      "source": [
        "spreadsheet_name = 'Workout LPPLU'\n",
        "leg_day = 'Legs'\n",
        "push_day = 'Push'\n",
        "pull_day = 'Pull'\n",
        "lower_body_day = 'Lower body'\n",
        "upper_body_day = 'Upper body'\n",
        "\n",
        "spreadsheet = gc.open(spreadsheet_name)\n",
        "\n",
        "def read_worksheet(worksheet_name):\n",
        "  try:\n",
        "    worksheet = gc.open(spreadsheet_name).worksheet(worksheet_name)\n",
        "    # get_all_values gives a list of rows.\n",
        "    rows = worksheet.get_all_values()\n",
        "    return pd.DataFrame.from_records(rows)\n",
        "  except gspread.SpreadsheetNotFound:\n",
        "    print(f\"Spreadsheet '{spreadsheet_name}' not found.\")\n",
        "    return None\n",
        "  except gspread.WorksheetNotFound:\n",
        "    print(f\"Worksheet '{worksheet_name}' not found in spreadsheet '{spreadsheet_name}'.\")\n",
        "    return None\n",
        "  except Exception as e:\n",
        "    print(f\"An error occurred: {e}\")\n",
        "\n",
        "leg_day_df = read_worksheet(leg_day)\n",
        "push_day_df = read_worksheet(push_day)\n",
        "pull_day_df = read_worksheet(pull_day)\n",
        "lower_body_day_df = read_worksheet(lower_body_day)\n",
        "upper_body_day_df = read_worksheet(upper_body_day)\n"
      ],
      "metadata": {
        "id": "H3w-iJCWzGjv"
      },
      "execution_count": 3,
      "outputs": []
    },
    {
      "cell_type": "markdown",
      "source": [
        "# Leg day"
      ],
      "metadata": {
        "id": "6J1JVOKuyuCi"
      }
    },
    {
      "cell_type": "code",
      "source": [
        "leg_day_df.columns = leg_day_df.iloc[0]\n",
        "leg_day_df.drop([0,1,2], inplace=True)"
      ],
      "metadata": {
        "id": "9ucamGnty1rh"
      },
      "execution_count": 4,
      "outputs": []
    },
    {
      "cell_type": "code",
      "source": [
        "leg_day_df.drop(columns=['Exercise'], inplace=True)\n",
        "leg_day_df.reset_index(drop=True, inplace=True)"
      ],
      "metadata": {
        "id": "BlRSvZijXtYc"
      },
      "execution_count": 5,
      "outputs": []
    },
    {
      "cell_type": "markdown",
      "source": [
        "Find 1 rep max for easy data manipulation"
      ],
      "metadata": {
        "id": "sWDL77y2Zi9P"
      }
    },
    {
      "cell_type": "code",
      "source": [
        "# Function to calculate 1RM using Epley formula\n",
        "def calculate_1rm(data):\n",
        "  data = data.strip().split(\",\")\n",
        "  if len(data) == 2:\n",
        "    weight, reps = data\n",
        "    return round(float(weight) * (1 + float(reps) / 30), 2) # 1RM formula\n",
        "  else:\n",
        "    return None\n",
        "\n",
        "\n",
        "leg_day_1_rep_max = leg_day_df.applymap(calculate_1rm)\n",
        "\n",
        "leg_day_1_rep_max.ffill(inplace=True)\n",
        "leg_day_1_rep_max.bfill(inplace=True)\n",
        "\n",
        "leg_day_1_rep_max.head()"
      ],
      "metadata": {
        "colab": {
          "base_uri": "https://localhost:8080/",
          "height": 242
        },
        "id": "1FpmpO78ZlnD",
        "outputId": "0b1d9eae-e9b3-483b-8a56-74ffc2baddff"
      },
      "execution_count": 6,
      "outputs": [
        {
          "output_type": "stream",
          "name": "stderr",
          "text": [
            "<ipython-input-6-0be1b9be36e5>:11: FutureWarning: DataFrame.applymap has been deprecated. Use DataFrame.map instead.\n",
            "  leg_day_1_rep_max = leg_day_df.applymap(calculate_1rm)\n"
          ]
        },
        {
          "output_type": "execute_result",
          "data": {
            "text/plain": [
              "0  Lying Leg curl  Smith Squats  RDL Barbel  Leg Extension   \\\n",
              "0           39.20        111.00       88.83           84.00   \n",
              "1           39.20        110.83       91.00           86.10   \n",
              "2           39.20         90.00       95.67          102.67   \n",
              "3           44.33         93.33       95.67          106.40   \n",
              "4           44.33         99.17       95.67          109.20   \n",
              "\n",
              "0  Hamstring Extention  Leg Press   Calf on Leg Press   \n",
              "0                 0.00       24.00               162.0  \n",
              "1                 0.00       24.00               162.0  \n",
              "2                 0.00       98.67               162.0  \n",
              "3                13.33      120.00               162.0  \n",
              "4                13.67      123.00               162.0  "
            ],
            "text/html": [
              "\n",
              "  <div id=\"df-6c9ccecc-a9db-4f88-a525-409160ea1128\" class=\"colab-df-container\">\n",
              "    <div>\n",
              "<style scoped>\n",
              "    .dataframe tbody tr th:only-of-type {\n",
              "        vertical-align: middle;\n",
              "    }\n",
              "\n",
              "    .dataframe tbody tr th {\n",
              "        vertical-align: top;\n",
              "    }\n",
              "\n",
              "    .dataframe thead th {\n",
              "        text-align: right;\n",
              "    }\n",
              "</style>\n",
              "<table border=\"1\" class=\"dataframe\">\n",
              "  <thead>\n",
              "    <tr style=\"text-align: right;\">\n",
              "      <th></th>\n",
              "      <th>Lying Leg curl</th>\n",
              "      <th>Smith Squats</th>\n",
              "      <th>RDL Barbel</th>\n",
              "      <th>Leg Extension</th>\n",
              "      <th>Hamstring Extention</th>\n",
              "      <th>Leg Press</th>\n",
              "      <th>Calf on Leg Press</th>\n",
              "    </tr>\n",
              "  </thead>\n",
              "  <tbody>\n",
              "    <tr>\n",
              "      <th>0</th>\n",
              "      <td>39.20</td>\n",
              "      <td>111.00</td>\n",
              "      <td>88.83</td>\n",
              "      <td>84.00</td>\n",
              "      <td>0.00</td>\n",
              "      <td>24.00</td>\n",
              "      <td>162.0</td>\n",
              "    </tr>\n",
              "    <tr>\n",
              "      <th>1</th>\n",
              "      <td>39.20</td>\n",
              "      <td>110.83</td>\n",
              "      <td>91.00</td>\n",
              "      <td>86.10</td>\n",
              "      <td>0.00</td>\n",
              "      <td>24.00</td>\n",
              "      <td>162.0</td>\n",
              "    </tr>\n",
              "    <tr>\n",
              "      <th>2</th>\n",
              "      <td>39.20</td>\n",
              "      <td>90.00</td>\n",
              "      <td>95.67</td>\n",
              "      <td>102.67</td>\n",
              "      <td>0.00</td>\n",
              "      <td>98.67</td>\n",
              "      <td>162.0</td>\n",
              "    </tr>\n",
              "    <tr>\n",
              "      <th>3</th>\n",
              "      <td>44.33</td>\n",
              "      <td>93.33</td>\n",
              "      <td>95.67</td>\n",
              "      <td>106.40</td>\n",
              "      <td>13.33</td>\n",
              "      <td>120.00</td>\n",
              "      <td>162.0</td>\n",
              "    </tr>\n",
              "    <tr>\n",
              "      <th>4</th>\n",
              "      <td>44.33</td>\n",
              "      <td>99.17</td>\n",
              "      <td>95.67</td>\n",
              "      <td>109.20</td>\n",
              "      <td>13.67</td>\n",
              "      <td>123.00</td>\n",
              "      <td>162.0</td>\n",
              "    </tr>\n",
              "  </tbody>\n",
              "</table>\n",
              "</div>\n",
              "    <div class=\"colab-df-buttons\">\n",
              "\n",
              "  <div class=\"colab-df-container\">\n",
              "    <button class=\"colab-df-convert\" onclick=\"convertToInteractive('df-6c9ccecc-a9db-4f88-a525-409160ea1128')\"\n",
              "            title=\"Convert this dataframe to an interactive table.\"\n",
              "            style=\"display:none;\">\n",
              "\n",
              "  <svg xmlns=\"http://www.w3.org/2000/svg\" height=\"24px\" viewBox=\"0 -960 960 960\">\n",
              "    <path d=\"M120-120v-720h720v720H120Zm60-500h600v-160H180v160Zm220 220h160v-160H400v160Zm0 220h160v-160H400v160ZM180-400h160v-160H180v160Zm440 0h160v-160H620v160ZM180-180h160v-160H180v160Zm440 0h160v-160H620v160Z\"/>\n",
              "  </svg>\n",
              "    </button>\n",
              "\n",
              "  <style>\n",
              "    .colab-df-container {\n",
              "      display:flex;\n",
              "      gap: 12px;\n",
              "    }\n",
              "\n",
              "    .colab-df-convert {\n",
              "      background-color: #E8F0FE;\n",
              "      border: none;\n",
              "      border-radius: 50%;\n",
              "      cursor: pointer;\n",
              "      display: none;\n",
              "      fill: #1967D2;\n",
              "      height: 32px;\n",
              "      padding: 0 0 0 0;\n",
              "      width: 32px;\n",
              "    }\n",
              "\n",
              "    .colab-df-convert:hover {\n",
              "      background-color: #E2EBFA;\n",
              "      box-shadow: 0px 1px 2px rgba(60, 64, 67, 0.3), 0px 1px 3px 1px rgba(60, 64, 67, 0.15);\n",
              "      fill: #174EA6;\n",
              "    }\n",
              "\n",
              "    .colab-df-buttons div {\n",
              "      margin-bottom: 4px;\n",
              "    }\n",
              "\n",
              "    [theme=dark] .colab-df-convert {\n",
              "      background-color: #3B4455;\n",
              "      fill: #D2E3FC;\n",
              "    }\n",
              "\n",
              "    [theme=dark] .colab-df-convert:hover {\n",
              "      background-color: #434B5C;\n",
              "      box-shadow: 0px 1px 3px 1px rgba(0, 0, 0, 0.15);\n",
              "      filter: drop-shadow(0px 1px 2px rgba(0, 0, 0, 0.3));\n",
              "      fill: #FFFFFF;\n",
              "    }\n",
              "  </style>\n",
              "\n",
              "    <script>\n",
              "      const buttonEl =\n",
              "        document.querySelector('#df-6c9ccecc-a9db-4f88-a525-409160ea1128 button.colab-df-convert');\n",
              "      buttonEl.style.display =\n",
              "        google.colab.kernel.accessAllowed ? 'block' : 'none';\n",
              "\n",
              "      async function convertToInteractive(key) {\n",
              "        const element = document.querySelector('#df-6c9ccecc-a9db-4f88-a525-409160ea1128');\n",
              "        const dataTable =\n",
              "          await google.colab.kernel.invokeFunction('convertToInteractive',\n",
              "                                                    [key], {});\n",
              "        if (!dataTable) return;\n",
              "\n",
              "        const docLinkHtml = 'Like what you see? Visit the ' +\n",
              "          '<a target=\"_blank\" href=https://colab.research.google.com/notebooks/data_table.ipynb>data table notebook</a>'\n",
              "          + ' to learn more about interactive tables.';\n",
              "        element.innerHTML = '';\n",
              "        dataTable['output_type'] = 'display_data';\n",
              "        await google.colab.output.renderOutput(dataTable, element);\n",
              "        const docLink = document.createElement('div');\n",
              "        docLink.innerHTML = docLinkHtml;\n",
              "        element.appendChild(docLink);\n",
              "      }\n",
              "    </script>\n",
              "  </div>\n",
              "\n",
              "\n",
              "<div id=\"df-8ca9d799-d2a7-4685-a658-016f8c9a3a69\">\n",
              "  <button class=\"colab-df-quickchart\" onclick=\"quickchart('df-8ca9d799-d2a7-4685-a658-016f8c9a3a69')\"\n",
              "            title=\"Suggest charts\"\n",
              "            style=\"display:none;\">\n",
              "\n",
              "<svg xmlns=\"http://www.w3.org/2000/svg\" height=\"24px\"viewBox=\"0 0 24 24\"\n",
              "     width=\"24px\">\n",
              "    <g>\n",
              "        <path d=\"M19 3H5c-1.1 0-2 .9-2 2v14c0 1.1.9 2 2 2h14c1.1 0 2-.9 2-2V5c0-1.1-.9-2-2-2zM9 17H7v-7h2v7zm4 0h-2V7h2v10zm4 0h-2v-4h2v4z\"/>\n",
              "    </g>\n",
              "</svg>\n",
              "  </button>\n",
              "\n",
              "<style>\n",
              "  .colab-df-quickchart {\n",
              "      --bg-color: #E8F0FE;\n",
              "      --fill-color: #1967D2;\n",
              "      --hover-bg-color: #E2EBFA;\n",
              "      --hover-fill-color: #174EA6;\n",
              "      --disabled-fill-color: #AAA;\n",
              "      --disabled-bg-color: #DDD;\n",
              "  }\n",
              "\n",
              "  [theme=dark] .colab-df-quickchart {\n",
              "      --bg-color: #3B4455;\n",
              "      --fill-color: #D2E3FC;\n",
              "      --hover-bg-color: #434B5C;\n",
              "      --hover-fill-color: #FFFFFF;\n",
              "      --disabled-bg-color: #3B4455;\n",
              "      --disabled-fill-color: #666;\n",
              "  }\n",
              "\n",
              "  .colab-df-quickchart {\n",
              "    background-color: var(--bg-color);\n",
              "    border: none;\n",
              "    border-radius: 50%;\n",
              "    cursor: pointer;\n",
              "    display: none;\n",
              "    fill: var(--fill-color);\n",
              "    height: 32px;\n",
              "    padding: 0;\n",
              "    width: 32px;\n",
              "  }\n",
              "\n",
              "  .colab-df-quickchart:hover {\n",
              "    background-color: var(--hover-bg-color);\n",
              "    box-shadow: 0 1px 2px rgba(60, 64, 67, 0.3), 0 1px 3px 1px rgba(60, 64, 67, 0.15);\n",
              "    fill: var(--button-hover-fill-color);\n",
              "  }\n",
              "\n",
              "  .colab-df-quickchart-complete:disabled,\n",
              "  .colab-df-quickchart-complete:disabled:hover {\n",
              "    background-color: var(--disabled-bg-color);\n",
              "    fill: var(--disabled-fill-color);\n",
              "    box-shadow: none;\n",
              "  }\n",
              "\n",
              "  .colab-df-spinner {\n",
              "    border: 2px solid var(--fill-color);\n",
              "    border-color: transparent;\n",
              "    border-bottom-color: var(--fill-color);\n",
              "    animation:\n",
              "      spin 1s steps(1) infinite;\n",
              "  }\n",
              "\n",
              "  @keyframes spin {\n",
              "    0% {\n",
              "      border-color: transparent;\n",
              "      border-bottom-color: var(--fill-color);\n",
              "      border-left-color: var(--fill-color);\n",
              "    }\n",
              "    20% {\n",
              "      border-color: transparent;\n",
              "      border-left-color: var(--fill-color);\n",
              "      border-top-color: var(--fill-color);\n",
              "    }\n",
              "    30% {\n",
              "      border-color: transparent;\n",
              "      border-left-color: var(--fill-color);\n",
              "      border-top-color: var(--fill-color);\n",
              "      border-right-color: var(--fill-color);\n",
              "    }\n",
              "    40% {\n",
              "      border-color: transparent;\n",
              "      border-right-color: var(--fill-color);\n",
              "      border-top-color: var(--fill-color);\n",
              "    }\n",
              "    60% {\n",
              "      border-color: transparent;\n",
              "      border-right-color: var(--fill-color);\n",
              "    }\n",
              "    80% {\n",
              "      border-color: transparent;\n",
              "      border-right-color: var(--fill-color);\n",
              "      border-bottom-color: var(--fill-color);\n",
              "    }\n",
              "    90% {\n",
              "      border-color: transparent;\n",
              "      border-bottom-color: var(--fill-color);\n",
              "    }\n",
              "  }\n",
              "</style>\n",
              "\n",
              "  <script>\n",
              "    async function quickchart(key) {\n",
              "      const quickchartButtonEl =\n",
              "        document.querySelector('#' + key + ' button');\n",
              "      quickchartButtonEl.disabled = true;  // To prevent multiple clicks.\n",
              "      quickchartButtonEl.classList.add('colab-df-spinner');\n",
              "      try {\n",
              "        const charts = await google.colab.kernel.invokeFunction(\n",
              "            'suggestCharts', [key], {});\n",
              "      } catch (error) {\n",
              "        console.error('Error during call to suggestCharts:', error);\n",
              "      }\n",
              "      quickchartButtonEl.classList.remove('colab-df-spinner');\n",
              "      quickchartButtonEl.classList.add('colab-df-quickchart-complete');\n",
              "    }\n",
              "    (() => {\n",
              "      let quickchartButtonEl =\n",
              "        document.querySelector('#df-8ca9d799-d2a7-4685-a658-016f8c9a3a69 button');\n",
              "      quickchartButtonEl.style.display =\n",
              "        google.colab.kernel.accessAllowed ? 'block' : 'none';\n",
              "    })();\n",
              "  </script>\n",
              "</div>\n",
              "\n",
              "    </div>\n",
              "  </div>\n"
            ],
            "application/vnd.google.colaboratory.intrinsic+json": {
              "type": "dataframe",
              "variable_name": "leg_day_1_rep_max",
              "summary": "{\n  \"name\": \"leg_day_1_rep_max\",\n  \"rows\": 8,\n  \"fields\": [\n    {\n      \"column\": \"Lying Leg curl\",\n      \"properties\": {\n        \"dtype\": \"number\",\n        \"std\": 2.937459726167685,\n        \"min\": 39.2,\n        \"max\": 45.5,\n        \"num_unique_values\": 3,\n        \"samples\": [\n          39.2,\n          44.33,\n          45.5\n        ],\n        \"semantic_type\": \"\",\n        \"description\": \"\"\n      }\n    },\n    {\n      \"column\": \"Smith Squats\",\n      \"properties\": {\n        \"dtype\": \"number\",\n        \"std\": 7.494258754921281,\n        \"min\": 90.0,\n        \"max\": 111.0,\n        \"num_unique_values\": 7,\n        \"samples\": [\n          111.0,\n          110.83,\n          102.0\n        ],\n        \"semantic_type\": \"\",\n        \"description\": \"\"\n      }\n    },\n    {\n      \"column\": \"RDL Barbel\",\n      \"properties\": {\n        \"dtype\": \"number\",\n        \"std\": 3.6835764841096643,\n        \"min\": 88.83,\n        \"max\": 100.0,\n        \"num_unique_values\": 6,\n        \"samples\": [\n          88.83,\n          91.0,\n          100.0\n        ],\n        \"semantic_type\": \"\",\n        \"description\": \"\"\n      }\n    },\n    {\n      \"column\": \"Leg Extension \",\n      \"properties\": {\n        \"dtype\": \"number\",\n        \"std\": 12.70972406129597,\n        \"min\": 84.0,\n        \"max\": 117.6,\n        \"num_unique_values\": 8,\n        \"samples\": [\n          86.1,\n          112.0,\n          84.0\n        ],\n        \"semantic_type\": \"\",\n        \"description\": \"\"\n      }\n    },\n    {\n      \"column\": \"Hamstring Extention\",\n      \"properties\": {\n        \"dtype\": \"number\",\n        \"std\": 7.988897653261413,\n        \"min\": 0.0,\n        \"max\": 19.5,\n        \"num_unique_values\": 5,\n        \"samples\": [\n          13.33,\n          19.5,\n          13.67\n        ],\n        \"semantic_type\": \"\",\n        \"description\": \"\"\n      }\n    },\n    {\n      \"column\": \"Leg Press \",\n      \"properties\": {\n        \"dtype\": \"number\",\n        \"std\": 47.31465093242412,\n        \"min\": 24.0,\n        \"max\": 140.0,\n        \"num_unique_values\": 7,\n        \"samples\": [\n          24.0,\n          98.67,\n          130.0\n        ],\n        \"semantic_type\": \"\",\n        \"description\": \"\"\n      }\n    },\n    {\n      \"column\": \"Calf on Leg Press \",\n      \"properties\": {\n        \"dtype\": \"number\",\n        \"std\": 0.0,\n        \"min\": 162.0,\n        \"max\": 162.0,\n        \"num_unique_values\": 1,\n        \"samples\": [\n          162.0\n        ],\n        \"semantic_type\": \"\",\n        \"description\": \"\"\n      }\n    }\n  ]\n}"
            }
          },
          "metadata": {},
          "execution_count": 6
        }
      ]
    },
    {
      "cell_type": "markdown",
      "source": [
        "Plot"
      ],
      "metadata": {
        "id": "2ZC34paHjuQ2"
      }
    },
    {
      "cell_type": "code",
      "source": [
        "sns.lineplot(data=leg_day_1_rep_max)"
      ],
      "metadata": {
        "colab": {
          "base_uri": "https://localhost:8080/",
          "height": 448
        },
        "id": "S6tnU56PjxE2",
        "outputId": "fe86d1c0-47c5-49dd-a050-1b79f750a197"
      },
      "execution_count": 7,
      "outputs": [
        {
          "output_type": "execute_result",
          "data": {
            "text/plain": [
              "<Axes: >"
            ]
          },
          "metadata": {},
          "execution_count": 7
        },
        {
          "output_type": "display_data",
          "data": {
            "text/plain": [
              "<Figure size 640x480 with 1 Axes>"
            ],
            "image/png": "[encoded data removed]"
          },
          "metadata": {}
        }
      ]
    }
  ]
}